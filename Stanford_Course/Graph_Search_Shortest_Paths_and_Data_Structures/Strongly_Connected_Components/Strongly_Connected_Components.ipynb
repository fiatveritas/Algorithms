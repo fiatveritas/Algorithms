{
 "cells": [
  {
   "cell_type": "code",
   "execution_count": 1,
   "metadata": {
    "collapsed": true
   },
   "outputs": [],
   "source": [
    "import random, time\n",
    "import strongly_connected_components as SCC"
   ]
  },
  {
   "cell_type": "code",
   "execution_count": 2,
   "metadata": {},
   "outputs": [
    {
     "name": "stdout",
     "output_type": "stream",
     "text": [
      "Graph grabbed in 46.1346271038 seconds\n",
      "Kosaraju's Algorithm ran in 17.6525371075 seconds\n",
      "Size of the top 5 strongly connected components:\n",
      "[434821, 968, 459, 313, 211]\n"
     ]
    }
   ],
   "source": [
    "start = time.time()\n",
    "G, G_rev = SCC.get_graph()\n",
    "print \"Graph grabbed in\", time.time() - start,\"seconds\"\n",
    "start = time.time()\n",
    "leader = SCC.Kosaraju(G,G_rev)\n",
    "print \"Kosaraju's Algorithm ran in\", time.time() - start,\"seconds\"\n",
    "print \"Size of the top 5 strongly connected components:\"\n",
    "print SCC.most_common(leader.values(),5)"
   ]
  }
 ],
 "metadata": {
  "kernelspec": {
   "display_name": "Python 2",
   "language": "python",
   "name": "python2"
  },
  "language_info": {
   "codemirror_mode": {
    "name": "ipython",
    "version": 2
   },
   "file_extension": ".py",
   "mimetype": "text/x-python",
   "name": "python",
   "nbconvert_exporter": "python",
   "pygments_lexer": "ipython2",
   "version": "2.7.13"
  }
 },
 "nbformat": 4,
 "nbformat_minor": 2
}
