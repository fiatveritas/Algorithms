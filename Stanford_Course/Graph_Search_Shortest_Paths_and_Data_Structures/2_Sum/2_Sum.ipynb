{
 "cells": [
  {
   "cell_type": "markdown",
   "metadata": {},
   "source": [
    "<h1>2-Sum Algorithm</h1>"
   ]
  },
  {
   "cell_type": "code",
   "execution_count": 1,
   "metadata": {
    "collapsed": true
   },
   "outputs": [],
   "source": [
    "import time\n",
    "import two_Sum_All as sum2"
   ]
  },
  {
   "cell_type": "code",
   "execution_count": 2,
   "metadata": {},
   "outputs": [
    {
     "name": "stdout",
     "output_type": "stream",
     "text": [
      "================\n",
      "Random list: [49, 97, 53, 5, 33, 65, 62, 51, 38, 61]\n",
      "1 pair(s) adding to 70\n",
      "================\n",
      "Random list: [17, 72, 97, 8, 32, 15, 63, 57, 60, 83]\n",
      "1 pair(s) adding to 71\n",
      "================\n",
      "Random list: [7, 11, 10, 46, 21, 94, 85, 39, 32, 77]\n",
      "1 pair(s) adding to 53\n",
      "================\n",
      "Random list: [30, 75, 69, 16, 47, 77, 60, 80, 74, 8]\n",
      "1 pair(s) adding to 38\n",
      "================\n",
      "Random list: [30, 38, 13, 92, 50, 61, 19, 11, 8, 2]\n",
      "1 pair(s) adding to 27\n",
      "================\n",
      "Random list: [79, 32, 94, 45, 88, 83, 67, 3, 59, 99]\n",
      "1 pair(s) adding to 124\n",
      "================\n",
      "Random list: [73, 10, 62, 97, 33, 4, 0, 18, 84, 75]\n",
      "1 pair(s) adding to 22\n",
      "================\n",
      "Random list: [41, 19, 50, 83, 6, 9, 68, 12, 46, 74]\n",
      "1 pair(s) adding to 87\n",
      "================\n",
      "Random list: [29, 47, 48, 16, 24, 90, 5, 10, 17, 31]\n",
      "1 pair(s) adding to 33\n",
      "================\n",
      "Random list: [59, 78, 47, 34, 17, 23, 86, 0, 43, 64]\n",
      "1 pair(s) adding to 78\n"
     ]
    }
   ],
   "source": [
    "sum2.check_algorithm()"
   ]
  },
  {
   "cell_type": "code",
   "execution_count": 3,
   "metadata": {},
   "outputs": [
    {
     "name": "stdout",
     "output_type": "stream",
     "text": [
      "file read!\n"
     ]
    }
   ],
   "source": [
    "list_of_numbers = sum2.read_file()"
   ]
  },
  {
   "cell_type": "code",
   "execution_count": 4,
   "metadata": {},
   "outputs": [
    {
     "name": "stdout",
     "output_type": "stream",
     "text": [
      "427\n"
     ]
    }
   ],
   "source": [
    "start = time.time()\n",
    "print(sum2.run_2sum(list_of_numbers))\n",
    "end = time.time()"
   ]
  },
  {
   "cell_type": "code",
   "execution_count": 5,
   "metadata": {},
   "outputs": [
    {
     "name": "stdout",
     "output_type": "stream",
     "text": [
      "time elapsed: 32487.031768798828\n"
     ]
    }
   ],
   "source": [
    "print(\"time elapsed:\", end - start)"
   ]
  }
 ],
 "metadata": {
  "kernelspec": {
   "display_name": "Python 2",
   "language": "python",
   "name": "python2"
  },
  "language_info": {
   "codemirror_mode": {
    "name": "ipython",
    "version": 3
   },
   "file_extension": ".py",
   "mimetype": "text/x-python",
   "name": "python",
   "nbconvert_exporter": "python",
   "pygments_lexer": "ipython3",
   "version": "3.6.2"
  }
 },
 "nbformat": 4,
 "nbformat_minor": 2
}
