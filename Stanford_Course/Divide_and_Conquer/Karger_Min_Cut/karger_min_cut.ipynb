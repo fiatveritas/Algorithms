{
 "cells": [
  {
   "cell_type": "markdown",
   "metadata": {},
   "source": [
    "<h1>Karger Min Cut</h1>"
   ]
  },
  {
   "cell_type": "code",
   "execution_count": 1,
   "metadata": {
    "collapsed": false
   },
   "outputs": [],
   "source": [
    "import karger_min_cut as kmc\n",
    "import random\n",
    "import copy"
   ]
  },
  {
   "cell_type": "code",
   "execution_count": 2,
   "metadata": {
    "collapsed": false
   },
   "outputs": [
    {
     "name": "stdout",
     "output_type": "stream",
     "text": [
      "200 vertices in dictionary.\n",
      "MinCut is 17\n"
     ]
    }
   ],
   "source": [
    "graph = kmc.readGraphFromFile(\"karger_min_cut.txt\")\n",
    "numberOfRepeatedTrials = 100\n",
    "for i in range(1, numberOfRepeatedTrials):  # iterate to find min\n",
    "    copiedGraph = copy.deepcopy(graph)\n",
    "    kmc.kargerMinCut(copiedGraph)\n",
    "print(\"MinCut is \" + str(min(kmc.cuts)))"
   ]
  }
 ],
 "metadata": {
  "kernelspec": {
   "display_name": "Python 2",
   "language": "python",
   "name": "python2"
  },
  "language_info": {
   "codemirror_mode": {
    "name": "ipython",
    "version": 2
   },
   "file_extension": ".py",
   "mimetype": "text/x-python",
   "name": "python",
   "nbconvert_exporter": "python",
   "pygments_lexer": "ipython2",
   "version": "2.7.12"
  }
 },
 "nbformat": 4,
 "nbformat_minor": 0
}
