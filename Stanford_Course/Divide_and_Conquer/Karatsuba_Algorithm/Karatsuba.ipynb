{
 "cells": [
  {
   "cell_type": "markdown",
   "metadata": {},
   "source": [
    "<h1>Implementing Karatsuba's Algorithm</h1>"
   ]
  },
  {
   "cell_type": "code",
   "execution_count": 1,
   "metadata": {
    "collapsed": false
   },
   "outputs": [],
   "source": [
    "import karatsuba as kb"
   ]
  },
  {
   "cell_type": "code",
   "execution_count": 2,
   "metadata": {
    "collapsed": false
   },
   "outputs": [
    {
     "name": "stdout",
     "output_type": "stream",
     "text": [
      "First number is: 3141592653589793238462643383279502884197169399375105820974944592\n",
      "Secont number is: 2718281828459045235360287471352662497757247093699959574966967627\n",
      "Their product is:\n",
      "8539734222673567065463550869546574495034888535765114961879601127067743044893204848617875072216249073013374895871952806582723184\n"
     ]
    }
   ],
   "source": [
    "numbers_file = open('numbers.txt', 'r')\n",
    "lines = [int(i) for i in numbers_file.read().split()]\n",
    "number_1 = lines[0]\n",
    "number_2 = lines[1]\n",
    "print 'First number is:', number_1\n",
    "print 'Secont number is:', number_2\n",
    "print 'Their product is:'\n",
    "print kb.karatsuba(x = number_1, y = number_2)\n",
    "numbers_file.close()"
   ]
  }
 ],
 "metadata": {
  "kernelspec": {
   "display_name": "Python 2",
   "language": "python",
   "name": "python2"
  },
  "language_info": {
   "codemirror_mode": {
    "name": "ipython",
    "version": 2
   },
   "file_extension": ".py",
   "mimetype": "text/x-python",
   "name": "python",
   "nbconvert_exporter": "python",
   "pygments_lexer": "ipython2",
   "version": "2.7.12"
  }
 },
 "nbformat": 4,
 "nbformat_minor": 0
}
